{
 "cells": [
  {
   "cell_type": "code",
   "execution_count": 1,
   "id": "827630d9",
   "metadata": {},
   "outputs": [
    {
     "name": "stdout",
     "output_type": "stream",
     "text": [
      "Collecting dabest\n",
      "  Using cached dabest-2023.2.14-py2.py3-none-any.whl (96 kB)\n",
      "Requirement already satisfied: numpy~=1.19 in /Users/kab285/anaconda3/lib/python3.11/site-packages (from dabest) (1.24.3)\n",
      "Requirement already satisfied: scipy~=1.5 in /Users/kab285/anaconda3/lib/python3.11/site-packages (from dabest) (1.11.1)\n",
      "Collecting pandas~=1.1 (from dabest)\n",
      "  Using cached pandas-1.5.3-cp311-cp311-macosx_11_0_arm64.whl (10.8 MB)\n",
      "Requirement already satisfied: matplotlib~=3.3 in /Users/kab285/anaconda3/lib/python3.11/site-packages (from dabest) (3.7.1)\n",
      "Requirement already satisfied: seaborn~=0.11 in /Users/kab285/anaconda3/lib/python3.11/site-packages (from dabest) (0.12.2)\n",
      "Collecting lqrt~=0.3 (from dabest)\n",
      "  Using cached lqrt-0.3.3-py3-none-any.whl (21 kB)\n",
      "Requirement already satisfied: contourpy>=1.0.1 in /Users/kab285/anaconda3/lib/python3.11/site-packages (from matplotlib~=3.3->dabest) (1.0.5)\n",
      "Requirement already satisfied: cycler>=0.10 in /Users/kab285/anaconda3/lib/python3.11/site-packages (from matplotlib~=3.3->dabest) (0.11.0)\n",
      "Requirement already satisfied: fonttools>=4.22.0 in /Users/kab285/anaconda3/lib/python3.11/site-packages (from matplotlib~=3.3->dabest) (4.25.0)\n",
      "Requirement already satisfied: kiwisolver>=1.0.1 in /Users/kab285/anaconda3/lib/python3.11/site-packages (from matplotlib~=3.3->dabest) (1.4.4)\n",
      "Requirement already satisfied: packaging>=20.0 in /Users/kab285/anaconda3/lib/python3.11/site-packages (from matplotlib~=3.3->dabest) (23.0)\n",
      "Requirement already satisfied: pillow>=6.2.0 in /Users/kab285/anaconda3/lib/python3.11/site-packages (from matplotlib~=3.3->dabest) (9.4.0)\n",
      "Requirement already satisfied: pyparsing>=2.3.1 in /Users/kab285/anaconda3/lib/python3.11/site-packages (from matplotlib~=3.3->dabest) (3.0.9)\n",
      "Requirement already satisfied: python-dateutil>=2.7 in /Users/kab285/anaconda3/lib/python3.11/site-packages (from matplotlib~=3.3->dabest) (2.8.2)\n",
      "Requirement already satisfied: pytz>=2020.1 in /Users/kab285/anaconda3/lib/python3.11/site-packages (from pandas~=1.1->dabest) (2022.7)\n",
      "Requirement already satisfied: six>=1.5 in /Users/kab285/anaconda3/lib/python3.11/site-packages (from python-dateutil>=2.7->matplotlib~=3.3->dabest) (1.16.0)\n",
      "Installing collected packages: pandas, lqrt, dabest\n",
      "Successfully installed dabest-2023.2.14 lqrt-0.3.3 pandas-1.5.3\n"
     ]
    }
   ],
   "source": [
    "# !pip install dabest --user"
   ]
  },
  {
   "cell_type": "code",
   "execution_count": 2,
   "id": "7d19cdcb",
   "metadata": {},
   "outputs": [],
   "source": [
    "import numpy as np\n",
    "import pandas as pd\n",
    "import dabest\n",
    "import seaborn as sns"
   ]
  },
  {
   "cell_type": "code",
   "execution_count": 5,
   "id": "0d6fb0ad",
   "metadata": {},
   "outputs": [],
   "source": [
    "df = pd.read_csv('/Users/kab285/Downloads/metaloki/analysis/aggregated_data/blocks_to_criterion.csv')"
   ]
  },
  {
   "cell_type": "code",
   "execution_count": 6,
   "id": "8561b597",
   "metadata": {},
   "outputs": [],
   "source": [
    "rot_un_df = df.loc[df.phase != 'b'].copy().reset_index(drop=1)"
   ]
  },
  {
   "cell_type": "code",
   "execution_count": 7,
   "id": "02d2e9b2",
   "metadata": {},
   "outputs": [],
   "source": [
    "learners_only_df = rot_un_df.loc[rot_un_df['sub'] != 927]\n",
    "\n"
   ]
  },
  {
   "cell_type": "code",
   "execution_count": 8,
   "id": "2a9921f4",
   "metadata": {},
   "outputs": [
    {
     "data": {
      "text/plain": [
       "phase\n",
       "r     3.6\n",
       "u    11.2\n",
       "Name: blocks_to_criterion, dtype: float64"
      ]
     },
     "execution_count": 8,
     "metadata": {},
     "output_type": "execute_result"
    }
   ],
   "source": [
    "round(learners_only_df.groupby(['phase']).blocks_to_criterion.mean(),1)\n"
   ]
  },
  {
   "cell_type": "code",
   "execution_count": 9,
   "id": "00c1f971",
   "metadata": {},
   "outputs": [
    {
     "data": {
      "text/plain": [
       "phase\n",
       "r     2.2\n",
       "u    14.9\n",
       "Name: blocks_to_criterion, dtype: float64"
      ]
     },
     "execution_count": 9,
     "metadata": {},
     "output_type": "execute_result"
    }
   ],
   "source": [
    "round(learners_only_df.groupby(['phase']).blocks_to_criterion.std(),1)\n",
    "\n"
   ]
  },
  {
   "cell_type": "code",
   "execution_count": 10,
   "id": "d0a9dbc4",
   "metadata": {},
   "outputs": [
    {
     "data": {
      "text/plain": [
       "phase\n",
       "r     6.8\n",
       "u    14.0\n",
       "Name: blocks_to_criterion, dtype: float64"
      ]
     },
     "execution_count": 10,
     "metadata": {},
     "output_type": "execute_result"
    }
   ],
   "source": [
    "rot_un_df.groupby(['phase']).blocks_to_criterion.mean()"
   ]
  },
  {
   "cell_type": "code",
   "execution_count": 11,
   "id": "7b9bb54d",
   "metadata": {},
   "outputs": [
    {
     "data": {
      "text/plain": [
       "phase\n",
       "r    14.3\n",
       "u    19.1\n",
       "Name: blocks_to_criterion, dtype: float64"
      ]
     },
     "execution_count": 11,
     "metadata": {},
     "output_type": "execute_result"
    }
   ],
   "source": [
    "round(rot_un_df.groupby(['phase']).blocks_to_criterion.std(),1)\n"
   ]
  },
  {
   "cell_type": "code",
   "execution_count": 12,
   "id": "89dc741b",
   "metadata": {},
   "outputs": [
    {
     "data": {
      "text/html": [
       "<div>\n",
       "<style scoped>\n",
       "    .dataframe tbody tr th:only-of-type {\n",
       "        vertical-align: middle;\n",
       "    }\n",
       "\n",
       "    .dataframe tbody tr th {\n",
       "        vertical-align: top;\n",
       "    }\n",
       "\n",
       "    .dataframe thead th {\n",
       "        text-align: right;\n",
       "    }\n",
       "</style>\n",
       "<table border=\"1\" class=\"dataframe\">\n",
       "  <thead>\n",
       "    <tr style=\"text-align: right;\">\n",
       "      <th></th>\n",
       "      <th>sub</th>\n",
       "      <th>level_1</th>\n",
       "      <th>blocks_to_criterion</th>\n",
       "      <th>phase</th>\n",
       "    </tr>\n",
       "  </thead>\n",
       "  <tbody>\n",
       "    <tr>\n",
       "      <th>0</th>\n",
       "      <td>912</td>\n",
       "      <td>0</td>\n",
       "      <td>4</td>\n",
       "      <td>r</td>\n",
       "    </tr>\n",
       "    <tr>\n",
       "      <th>1</th>\n",
       "      <td>912</td>\n",
       "      <td>0</td>\n",
       "      <td>6</td>\n",
       "      <td>u</td>\n",
       "    </tr>\n",
       "    <tr>\n",
       "      <th>2</th>\n",
       "      <td>913</td>\n",
       "      <td>0</td>\n",
       "      <td>3</td>\n",
       "      <td>r</td>\n",
       "    </tr>\n",
       "    <tr>\n",
       "      <th>3</th>\n",
       "      <td>913</td>\n",
       "      <td>0</td>\n",
       "      <td>5</td>\n",
       "      <td>u</td>\n",
       "    </tr>\n",
       "    <tr>\n",
       "      <th>4</th>\n",
       "      <td>914</td>\n",
       "      <td>0</td>\n",
       "      <td>2</td>\n",
       "      <td>r</td>\n",
       "    </tr>\n",
       "  </tbody>\n",
       "</table>\n",
       "</div>"
      ],
      "text/plain": [
       "   sub  level_1  blocks_to_criterion phase\n",
       "0  912        0                    4     r\n",
       "1  912        0                    6     u\n",
       "2  913        0                    3     r\n",
       "3  913        0                    5     u\n",
       "4  914        0                    2     r"
      ]
     },
     "execution_count": 12,
     "metadata": {},
     "output_type": "execute_result"
    }
   ],
   "source": [
    "rot_un_df.head()"
   ]
  },
  {
   "cell_type": "code",
   "execution_count": 13,
   "id": "98f7b070",
   "metadata": {},
   "outputs": [
    {
     "name": "stdout",
     "output_type": "stream",
     "text": [
      "20 Subjects\n"
     ]
    }
   ],
   "source": [
    "print(rot_un_df['sub'].nunique(),  'Subjects')"
   ]
  },
  {
   "cell_type": "code",
   "execution_count": 14,
   "id": "eb137eb0",
   "metadata": {},
   "outputs": [],
   "source": [
    "rot_un_df_wide = rot_un_df.pivot(index='sub',columns='phase',values='blocks_to_criterion').reset_index()\n",
    "\n",
    "rot_un_df_wide.rename(columns={'r': 'Rotation', 'u': 'Inversion'}, inplace=1)"
   ]
  },
  {
   "cell_type": "code",
   "execution_count": 15,
   "id": "480422f4",
   "metadata": {},
   "outputs": [
    {
     "data": {
      "text/html": [
       "<div>\n",
       "<style scoped>\n",
       "    .dataframe tbody tr th:only-of-type {\n",
       "        vertical-align: middle;\n",
       "    }\n",
       "\n",
       "    .dataframe tbody tr th {\n",
       "        vertical-align: top;\n",
       "    }\n",
       "\n",
       "    .dataframe thead th {\n",
       "        text-align: right;\n",
       "    }\n",
       "</style>\n",
       "<table border=\"1\" class=\"dataframe\">\n",
       "  <thead>\n",
       "    <tr style=\"text-align: right;\">\n",
       "      <th>phase</th>\n",
       "      <th>sub</th>\n",
       "      <th>Rotation</th>\n",
       "      <th>Inversion</th>\n",
       "    </tr>\n",
       "  </thead>\n",
       "  <tbody>\n",
       "    <tr>\n",
       "      <th>0</th>\n",
       "      <td>912</td>\n",
       "      <td>4</td>\n",
       "      <td>6</td>\n",
       "    </tr>\n",
       "    <tr>\n",
       "      <th>1</th>\n",
       "      <td>913</td>\n",
       "      <td>3</td>\n",
       "      <td>5</td>\n",
       "    </tr>\n",
       "    <tr>\n",
       "      <th>2</th>\n",
       "      <td>914</td>\n",
       "      <td>2</td>\n",
       "      <td>8</td>\n",
       "    </tr>\n",
       "    <tr>\n",
       "      <th>3</th>\n",
       "      <td>915</td>\n",
       "      <td>5</td>\n",
       "      <td>8</td>\n",
       "    </tr>\n",
       "    <tr>\n",
       "      <th>4</th>\n",
       "      <td>916</td>\n",
       "      <td>1</td>\n",
       "      <td>8</td>\n",
       "    </tr>\n",
       "  </tbody>\n",
       "</table>\n",
       "</div>"
      ],
      "text/plain": [
       "phase  sub  Rotation  Inversion\n",
       "0      912         4          6\n",
       "1      913         3          5\n",
       "2      914         2          8\n",
       "3      915         5          8\n",
       "4      916         1          8"
      ]
     },
     "execution_count": 15,
     "metadata": {},
     "output_type": "execute_result"
    }
   ],
   "source": [
    "rot_un_df_wide.head()"
   ]
  },
  {
   "cell_type": "code",
   "execution_count": 17,
   "id": "5ebc142f",
   "metadata": {},
   "outputs": [],
   "source": [
    "?dabest.load"
   ]
  },
  {
   "cell_type": "code",
   "execution_count": 18,
   "id": "b96cccec",
   "metadata": {},
   "outputs": [],
   "source": [
    "# two_groups_paired = dabest.load(rot_un_df_wide, idx=(\"Rotation\", \"Inversion\"),\n",
    "#                                 paired=True, id_col=\"sub\") # syntax change for paired stats with update\n",
    "\n",
    "two_groups_paired = dabest.load(rot_un_df_wide, idx=(\"Rotation\", \"Inversion\"),\n",
    "                                paired='baseline', id_col=\"sub\")"
   ]
  },
  {
   "cell_type": "code",
   "execution_count": 19,
   "id": "37d31a65",
   "metadata": {},
   "outputs": [
    {
     "name": "stderr",
     "output_type": "stream",
     "text": [
      "/Users/kab285/anaconda3/lib/python3.11/site-packages/scipy/stats/_morestats.py:4088: UserWarning: Exact p-value calculation does not work if there are zeros. Switching to normal approximation.\n",
      "  warnings.warn(\"Exact p-value calculation does not work if there are \"\n"
     ]
    },
    {
     "data": {
      "text/plain": [
       "DABEST v2023.02.14\n",
       "==================\n",
       "                  \n",
       "Good afternoon!\n",
       "The current time is Mon Sep 11 15:53:06 2023.\n",
       "\n",
       "The paired mean difference for repeated measures against baseline \n",
       "between Rotation and Inversion is 7.2 [95%CI 3.1, 19.2].\n",
       "The p-value of the two-sided permutation t-test is 0.0, calculated for legacy purposes only. \n",
       "\n",
       "5000 bootstrap samples were taken; the confidence interval is bias-corrected and accelerated.\n",
       "Any p-value reported is the probability of observing theeffect size (or greater),\n",
       "assuming the null hypothesis ofzero difference is true.\n",
       "For each p-value, 5000 reshuffles of the control and test labels were performed.\n",
       "\n",
       "To get the results of all valid statistical tests, use `.mean_diff.statistical_tests`"
      ]
     },
     "execution_count": 19,
     "metadata": {},
     "output_type": "execute_result"
    }
   ],
   "source": [
    "two_groups_paired.mean_diff"
   ]
  },
  {
   "cell_type": "code",
   "execution_count": 20,
   "id": "08ec7654",
   "metadata": {},
   "outputs": [
    {
     "data": {
      "text/plain": [
       "4.1"
      ]
     },
     "execution_count": 20,
     "metadata": {},
     "output_type": "execute_result"
    }
   ],
   "source": [
    "7.2 - 3.1"
   ]
  },
  {
   "cell_type": "code",
   "execution_count": 21,
   "id": "ff1a596b",
   "metadata": {},
   "outputs": [
    {
     "data": {
      "image/png": "[encoded data removed]",
      "text/plain": [
       "<Figure size 375x400 with 2 Axes>"
      ]
     },
     "metadata": {},
     "output_type": "display_data"
    }
   ],
   "source": [
    "ax = two_groups_paired.mean_diff.plot(swarm_label='Blocks to criterion',slopegraph_kwargs={'color': 'red', 'lw': 2},\n",
    "                                      reflines_kwargs={'linestyle':'dashed', 'linewidth': 2},contrast_label=r'Inv - Rot')\n",
    "\n",
    "ax.gca().set(xticklabels=[])\n",
    "\n",
    "ax.savefig('/Users/kab285/Downloads/metaloki/analysis/figures/effectsize_Rot_Inv.pdf', dpi=300)"
   ]
  },
  {
   "cell_type": "markdown",
   "id": "22c5db02",
   "metadata": {},
   "source": [
    "# Excluding the nonlearner"
   ]
  },
  {
   "cell_type": "code",
   "execution_count": 22,
   "id": "da512e29",
   "metadata": {},
   "outputs": [],
   "source": [
    "non_learner = 927\n",
    "excluding_nonlearner = (rot_un_df_wide.loc[rot_un_df_wide['sub'] != non_learner].copy()).reset_index(drop=True)"
   ]
  },
  {
   "cell_type": "code",
   "execution_count": 23,
   "id": "8889ff95",
   "metadata": {},
   "outputs": [],
   "source": [
    "learners_two_groups_paired = dabest.load(excluding_nonlearner, idx=(\"Rotation\", \"Inversion\"),\n",
    "                                paired='baseline', id_col=\"sub\")"
   ]
  },
  {
   "cell_type": "code",
   "execution_count": 24,
   "id": "ccb23e4b",
   "metadata": {},
   "outputs": [
    {
     "name": "stderr",
     "output_type": "stream",
     "text": [
      "/Users/kab285/anaconda3/lib/python3.11/site-packages/scipy/stats/_morestats.py:4088: UserWarning: Exact p-value calculation does not work if there are zeros. Switching to normal approximation.\n",
      "  warnings.warn(\"Exact p-value calculation does not work if there are \"\n"
     ]
    },
    {
     "data": {
      "text/plain": [
       "DABEST v2023.02.14\n",
       "==================\n",
       "                  \n",
       "Good afternoon!\n",
       "The current time is Mon Sep 11 15:53:51 2023.\n",
       "\n",
       "The paired mean difference for repeated measures against baseline \n",
       "between Rotation and Inversion is 7.58 [95%CI 3.26, 19.7].\n",
       "The p-value of the two-sided permutation t-test is 0.0006, calculated for legacy purposes only. \n",
       "\n",
       "5000 bootstrap samples were taken; the confidence interval is bias-corrected and accelerated.\n",
       "Any p-value reported is the probability of observing theeffect size (or greater),\n",
       "assuming the null hypothesis ofzero difference is true.\n",
       "For each p-value, 5000 reshuffles of the control and test labels were performed.\n",
       "\n",
       "To get the results of all valid statistical tests, use `.mean_diff.statistical_tests`"
      ]
     },
     "execution_count": 24,
     "metadata": {},
     "output_type": "execute_result"
    }
   ],
   "source": [
    "learners_two_groups_paired.mean_diff"
   ]
  },
  {
   "cell_type": "code",
   "execution_count": 25,
   "id": "bdaa4db2",
   "metadata": {},
   "outputs": [
    {
     "data": {
      "image/png": "[encoded data removed]",
      "text/plain": [
       "<Figure size 375x400 with 2 Axes>"
      ]
     },
     "metadata": {},
     "output_type": "display_data"
    }
   ],
   "source": [
    "ax = learners_two_groups_paired.mean_diff.plot(swarm_label='Blocks to criterion',slopegraph_kwargs={'color': 'red', 'lw': 2},\n",
    "                                      reflines_kwargs={'linestyle':'dashed', 'linewidth': 2},contrast_label=r'Inv - Rot')\n",
    "\n",
    "ax.gca().set(xticklabels=[])\n",
    "\n",
    "ax.savefig('/Users/kab285/Downloads/metaloki/analysis/figures/effectsize_Rot_Inv_exclude.pdf', dpi=300)"
   ]
  },
  {
   "cell_type": "code",
   "execution_count": null,
   "id": "b050de15",
   "metadata": {},
   "outputs": [],
   "source": []
  }
 ],
 "metadata": {
  "kernelspec": {
   "display_name": "Python 3 (ipykernel)",
   "language": "python",
   "name": "python3"
  },
  "language_info": {
   "codemirror_mode": {
    "name": "ipython",
    "version": 3
   },
   "file_extension": ".py",
   "mimetype": "text/x-python",
   "name": "python",
   "nbconvert_exporter": "python",
   "pygments_lexer": "ipython3",
   "version": "3.11.4"
  }
 },
 "nbformat": 4,
 "nbformat_minor": 5
}
